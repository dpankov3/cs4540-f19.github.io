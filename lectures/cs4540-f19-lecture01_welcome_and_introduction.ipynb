{
 "cells": [
  {
   "cell_type": "code",
   "execution_count": 20,
   "metadata": {},
   "outputs": [],
   "source": [
    "%matplotlib inline\n",
    "import numpy as np\n",
    "import numpy.random as nr\n",
    "import matplotlib.pyplot as pl\n",
    "\n",
    "# Size matters in plots.\n",
    "pl.rcParams['figure.figsize'] = (12.0, 10.0)\n",
    "\n",
    "# Plotting with style! \n",
    "import seaborn as sb\n",
    "from matplotlib.pyplot import cm\n",
    "\n"
   ]
  },
  {
   "cell_type": "markdown",
   "metadata": {},
   "source": [
    "$\\LaTeX \\text{ commands here}\n",
    "\\newcommand{\\R}{\\mathbb{R}}\n",
    "\\newcommand{\\im}{\\text{im}\\,}\n",
    "\\newcommand{\\norm}[1]{||#1||}\n",
    "\\newcommand{\\inner}[1]{\\langle #1 \\rangle}\n",
    "\\newcommand{\\span}{\\mathrm{span}}\n",
    "\\newcommand{\\proj}{\\mathrm{proj}}\n",
    "$"
   ]
  },
  {
   "cell_type": "markdown",
   "metadata": {
    "nbpresent": {
     "id": "0d550dc6-b222-4f90-8a5a-8fc373b860e9"
    },
    "slideshow": {
     "slide_type": "slide"
    }
   },
   "source": [
    "<hr style=\"border: 5px solid black\">\n",
    "\n",
    "**Georgia Tech, CS 4540**\n",
    "\n",
    "# L1:  Welcome and Introduction\n",
    "\n",
    "Jacob Abernethy\n",
    "\n",
    "*Tuesday, August 20, 2018*"
   ]
  },
  {
   "cell_type": "markdown",
   "metadata": {
    "nbpresent": {
     "id": "a69ec655-4bfe-4a3f-9d26-9965eceb71df"
    },
    "slideshow": {
     "slide_type": "slide"
    }
   },
   "source": [
    "### Outline\n",
    "\n",
    "1. Welcome to the course!\n",
    "    * What this course is about\n",
    "    * What this course is NOT about\n",
    "    * The structure of the course, \"flipped classroom\"\n",
    "    * Quizzes\n",
    "    * Homeworks and Exams\n",
    "    * Using jupyter notebooks\n",
    "2. A taste of what's to come\n",
    "    * One of the simplest learning algorithms: perceptron\n",
    "    * Proof of perceptron's performance"
   ]
  },
  {
   "cell_type": "markdown",
   "metadata": {
    "slideshow": {
     "slide_type": "slide"
    }
   },
   "source": [
    "## What is this course about?\n",
    "\n",
    "We are in a new world:\n",
    "- much of industry now views their main resource is **data**\n",
    "- In 2005 the question was: \"how do I efficiently store this data? How do I run queries more quickly?\"\n",
    "- In 2019 the question is: \"how do I leverage all this data for business decisions and customer value?\"\n",
    "\n",
    "This has driven the push for Machine Learning and Data Science.\n",
    "\n",
    "This core question of this course: **What are the algorithmic foundations of data science + ML?**\n",
    "\n",
    "\n"
   ]
  },
  {
   "cell_type": "markdown",
   "metadata": {
    "slideshow": {
     "slide_type": "slide"
    }
   },
   "source": [
    "## What is this course NOT about?\n",
    "\n",
    "- It's NOT about deep learning or Tensorflow (although we may learn a little about neural networks)\n",
    "- It's NOT about graph algorithms or matchings\n",
    "- It's NOT a coding course (although it may involve some *python* coding)\n",
    "\n",
    "Also: there will NOT be a fixed textbook -- although you may find some textbooks useful.\n"
   ]
  },
  {
   "cell_type": "markdown",
   "metadata": {
    "slideshow": {
     "slide_type": "slide"
    }
   },
   "source": [
    "## Structure of the course: FLIPPED classroom\n",
    "\n",
    "The *classical* way of teaching: lecture time reserved to describe content such as definitions and tools, and students solve challenge problems at home.\n",
    "\n",
    "The *flipped-classroom* style: students learn definitions and tools at home, lecture time is reserved for interactive problem solving in groups.\n",
    "* Each lecture will have an associated reading, posted a week before class, for students to go through. It shouldn't take much more than an hour!\n",
    "* Each lecture I will present 4-8 problems, and students will work on them in groups with the help of the instructor(s).\n",
    "\n",
    "**WHY FLIP?** Instruction time is precious. Why waste it just listening to a lecture? Only thing we care about, and that we evaluate you on, is problem solving!"
   ]
  },
  {
   "cell_type": "markdown",
   "metadata": {
    "slideshow": {
     "slide_type": "slide"
    }
   },
   "source": [
    "## The challenge with the flipped classroom:\n",
    "### We need to force students to actually do readings outside of class!\n",
    "\n",
    "**Solution**: We will *quiz* you at the beginning of each lecture. The quiz checks if you've done the reading or not, and penalizes you if you haven't.\n",
    "\n",
    "You need to bring a laptop, phone, or tablet, in order to take the quiz. Quizzes are given through Canvas, but you will be required to be in class to take the quiz.\n",
    "\n",
    "**Quiz scoring**: 2 points for correct answer, 1 point for any answer, 0 points for no-show. You get 5 quiz drops over the course of the semester!\n",
    "\n"
   ]
  },
  {
   "cell_type": "markdown",
   "metadata": {
    "slideshow": {
     "slide_type": "slide"
    }
   },
   "source": [
    "## Homeworks and Exams\n",
    "\n",
    "Aside from quizzes, course evaluation will be as follows:\n",
    "1. Homework 1 due\n",
    "1. Homework 2 due\n",
    "1. Homework 3 due\n",
    "1. *Midterm Exam* (in class)\n",
    "1. Homework 4 due\n",
    "1. Homework 5 due\n",
    "1. Homework 6 due\n",
    "1. *Final Exam* "
   ]
  },
  {
   "cell_type": "markdown",
   "metadata": {
    "slideshow": {
     "slide_type": "slide"
    }
   },
   "source": [
    "## Course grade rubric\n",
    "\n",
    "|Content|Score|\n",
    "|------|------|\n",
    "|Homeworks|35%|\n",
    "|Attendance Quizzes|15%|\n",
    "|Midterm Exam|20%|\n",
    "|Final Exam|30%|\n"
   ]
  },
  {
   "cell_type": "markdown",
   "metadata": {
    "slideshow": {
     "slide_type": "slide"
    }
   },
   "source": [
    "## Let's look at an implementation of the Perceptron Algorithm"
   ]
  },
  {
   "cell_type": "code",
   "execution_count": 59,
   "metadata": {
    "slideshow": {
     "slide_type": "-"
    }
   },
   "outputs": [
    {
     "data": {
      "image/png": "[encoded data removed]",
      "text/plain": [
       "<Figure size 864x720 with 1 Axes>"
      ]
     },
     "metadata": {
      "needs_background": "light"
     },
     "output_type": "display_data"
    }
   ],
   "source": [
    "# Generate some points\n",
    "N = 100\n",
    "xn = nr.rand(N,2)\n",
    "\n",
    "x = np.linspace(0,1);\n",
    "\n",
    "# Pick a line \n",
    "a = nr.rand();\n",
    "b = nr.rand();\n",
    "f = lambda x : a*x + b;\n",
    "\n",
    "fig =pl.figure()\n",
    "figa = pl.gca();\n",
    "\n",
    "pl.plot(xn[:,0],xn[:,1],'bo');\n",
    "pl.plot(x,f(x),'r')\n",
    "\n",
    "# Linearly separate the points by the line\n",
    "yn = np.zeros([N,1]);\n",
    "\n",
    "for i in range(N):\n",
    "    if(f(xn[i,0])>xn[i,1]):\n",
    "        # Point is below line\n",
    "        yn[i] = 1;\n",
    "        pl.plot(xn[i,0],xn[i,1],'go')\n",
    "    else:\n",
    "        # Point is above line\n",
    "        yn[i] = -1;\n",
    "        \n",
    "        \n",
    "pl.legend(['Above','Separator','Below'],loc=0)\n",
    "pl.title('Selected points with their separating line.')\n",
    "figa.axes.get_xaxis().set_visible(False)\n",
    "figa.axes.get_yaxis().set_visible(False)\n",
    "\n"
   ]
  },
  {
   "cell_type": "code",
   "execution_count": 60,
   "metadata": {},
   "outputs": [],
   "source": [
    "def perceptron(xn,yn,MaxIter=100,w=np.zeros(3)):\n",
    "    '''\n",
    "        A very simple implementation of the perceptron algorithm for two dimensional data.\n",
    "        \n",
    "        Given points (x,y) with x in R^{2} and y in {0,1}, the perceptron learning algorithm searches for the best\n",
    "        line that separates the data points according to the difference classes defined in y. \n",
    "        \n",
    "        Input: \n",
    "            xn : Data points, an Nx2 vector. \n",
    "            yn : Classification of the previous data points, an Nx1 vector. \n",
    "            MaxIter : Maximum number of iterations (optional).\n",
    "            w  : Initial vector of parameters (optional).\n",
    "            \n",
    "        Output: \n",
    "            w : Parameters of the best line, y = ax+b, that linearly separates the data. \n",
    "        \n",
    "        Note:\n",
    "            Convergence will be slower than expected, since this implementation picks points\n",
    "            to update without a specific plan (randomly). This is enough for a demonstration, not \n",
    "            so good for actual work. \n",
    "'''\n",
    "    \n",
    "    N = xn.shape[0];\n",
    "    \n",
    "    # Separating curve\n",
    "    f = lambda x: np.sign(w[0]+w[1]*x[0]+w[2]*x[1]);\n",
    "    color=iter(cm.rainbow(np.linspace(0,1,10)))\n",
    "    for rndind in range(MaxIter):\n",
    "        i = nr.randint(N);\n",
    "        if rndind % 10 == 0:\n",
    "            bnew = -w[0]/w[2];\n",
    "            anew = -w[1]/w[2];\n",
    "            y = lambda x: anew * x + bnew\n",
    "            col = next(color)\n",
    "            pl.plot(x,y(x),'--',c=col,label='Line from perceptron round %d' % rndind)\n",
    "\n",
    "        if(yn[i] != f(xn[i,:])): # If not classified correctly, adjust the line to account for that point.\n",
    "             w[0] = w[0] + yn[i];\n",
    "             w[1] = w[1] + yn[i]*xn[i,0];\n",
    "             w[2] = w[2] + yn[i]*xn[i,1];\n",
    "            \n",
    "    return w;\n",
    "    \n"
   ]
  },
  {
   "cell_type": "code",
   "execution_count": 61,
   "metadata": {},
   "outputs": [
    {
     "name": "stderr",
     "output_type": "stream",
     "text": [
      "//anaconda3/lib/python3.7/site-packages/ipykernel_launcher.py:31: RuntimeWarning: invalid value encountered in double_scalars\n",
      "//anaconda3/lib/python3.7/site-packages/ipykernel_launcher.py:32: RuntimeWarning: invalid value encountered in double_scalars\n"
     ]
    },
    {
     "data": {
      "image/png": "[encoded data removed]",
      "text/plain": [
       "<Figure size 864x720 with 1 Axes>"
      ]
     },
     "metadata": {
      "needs_background": "light"
     },
     "output_type": "display_data"
    }
   ],
   "source": [
    "figa = pl.gca()\n",
    "w= perceptron(xn,yn)\n",
    "\n",
    "# Using weights w to compute a,b for a line y=a*x+b\n",
    "bnew = -w[0]/w[2];\n",
    "anew = -w[1]/w[2];\n",
    "y = lambda x: anew * x + bnew;\n",
    "\n",
    "# Computing the colors for the points\n",
    "sep_color = (yn+1)/2.0;\n",
    "\n",
    "# pl.figure();\n",
    "\n",
    "\n",
    "pl.scatter(xn[:,0],xn[:,1],c=sep_color.flatten(), s=30)\n",
    "pl.plot(x,y(x),'b--',label='Line from perceptron implementation.')\n",
    "pl.plot(x,f(x),'r',label='Original line.')\n",
    "pl.legend()\n",
    "\n",
    "pl.title('Comparison between the linear separator and the perceptron approximation.')\n",
    "\n",
    "figa.axes.get_xaxis().set_visible(False)\n",
    "figa.axes.get_yaxis().set_visible(False)\n"
   ]
  }
 ],
 "metadata": {
  "anaconda-cloud": {},
  "celltoolbar": "Slideshow",
  "kernelspec": {
   "display_name": "Python 3",
   "language": "python",
   "name": "python3"
  },
  "language_info": {
   "codemirror_mode": {
    "name": "ipython",
    "version": 3
   },
   "file_extension": ".py",
   "mimetype": "text/x-python",
   "name": "python",
   "nbconvert_exporter": "python",
   "pygments_lexer": "ipython3",
   "version": "3.7.3"
  },
  "nbpresent": {
   "slides": {
    "00402695-e04c-4eef-89e0-d40218a4b0e7": {
     "id": "00402695-e04c-4eef-89e0-d40218a4b0e7",
     "prev": null,
     "regions": {
      "4448a694-c5c3-40bb-ab2b-ed9b29a5b571": {
       "attrs": {
        "height": 0.8,
        "width": 0.8,
        "x": 0.1,
        "y": 0.1
       },
       "id": "4448a694-c5c3-40bb-ab2b-ed9b29a5b571"
      }
     }
    },
    "0265b550-c6b6-425a-9c52-f618822afef0": {
     "id": "0265b550-c6b6-425a-9c52-f618822afef0",
     "prev": "49ba58b9-fb36-4447-9811-c3ada1b777b6",
     "regions": {
      "b702ead7-d493-4d02-8d0f-23b216601150": {
       "attrs": {
        "height": 0.8,
        "width": 0.8,
        "x": 0.1,
        "y": 0.1
       },
       "content": {
        "cell": "a69ec655-4bfe-4a3f-9d26-9965eceb71df",
        "part": "whole"
       },
       "id": "b702ead7-d493-4d02-8d0f-23b216601150"
      }
     }
    },
    "1b9e5fe3-4efd-46d2-9af0-7648e295e4a2": {
     "id": "1b9e5fe3-4efd-46d2-9af0-7648e295e4a2",
     "prev": "885499a5-0dfb-4789-9555-6a95c5a3376e",
     "regions": {
      "556348bf-3f97-4a5d-952c-5ab545ee4992": {
       "attrs": {
        "height": 0.8,
        "width": 0.8,
        "x": 0.1,
        "y": 0.1
       },
       "content": {
        "cell": "ece64073-7cf1-4495-bfe4-337f1fa42390",
        "part": "whole"
       },
       "id": "556348bf-3f97-4a5d-952c-5ab545ee4992"
      }
     }
    },
    "2039394f-772d-4c00-b81e-83f05bc1dcd1": {
     "id": "2039394f-772d-4c00-b81e-83f05bc1dcd1",
     "prev": "94eabf87-a6d9-4ac8-a24e-dad8e0e4d8d8",
     "regions": {
      "63b012e8-1ac7-4c4e-b281-a80d944c12ae": {
       "attrs": {
        "height": 0.8,
        "width": 0.8,
        "x": 0.1,
        "y": 0.1
       },
       "content": {
        "cell": "29b540e4-7d19-4df6-b685-72c772a842d0",
        "part": "whole"
       },
       "id": "63b012e8-1ac7-4c4e-b281-a80d944c12ae"
      }
     }
    },
    "2db8174a-eab5-4a44-aa68-a816d759bda9": {
     "id": "2db8174a-eab5-4a44-aa68-a816d759bda9",
     "prev": "1b9e5fe3-4efd-46d2-9af0-7648e295e4a2",
     "regions": {
      "7539e7ab-53f5-417b-af25-a99f24b36e72": {
       "attrs": {
        "height": 0.8,
        "width": 0.8,
        "x": 0.1,
        "y": 0.1
       },
       "content": {
        "cell": "526a6929-1493-4efb-9580-8d532f1b1733",
        "part": "whole"
       },
       "id": "7539e7ab-53f5-417b-af25-a99f24b36e72"
      }
     }
    },
    "4329cc6d-7f9f-4b70-a761-2cb9d911ca0f": {
     "id": "4329cc6d-7f9f-4b70-a761-2cb9d911ca0f",
     "prev": "9b2467ee-a4a5-42ab-9028-de6057970611",
     "regions": {
      "4dc09d43-f722-4d98-99a1-5752221a2d67": {
       "attrs": {
        "height": 0.8,
        "width": 0.8,
        "x": 0.1,
        "y": 0.1
       },
       "content": {
        "cell": "ac1f6d59-30ec-4e45-ba35-254bfe82de2a",
        "part": "whole"
       },
       "id": "4dc09d43-f722-4d98-99a1-5752221a2d67"
      }
     }
    },
    "49ba58b9-fb36-4447-9811-c3ada1b777b6": {
     "id": "49ba58b9-fb36-4447-9811-c3ada1b777b6",
     "prev": "00402695-e04c-4eef-89e0-d40218a4b0e7",
     "regions": {
      "9fd470e1-9457-4fad-a69a-135027c528ae": {
       "attrs": {
        "height": 0.8,
        "width": 0.8,
        "x": 0.1,
        "y": 0.1
       },
       "content": {
        "cell": "0d550dc6-b222-4f90-8a5a-8fc373b860e9",
        "part": "whole"
       },
       "id": "9fd470e1-9457-4fad-a69a-135027c528ae"
      }
     }
    },
    "4f2e1449-4308-4724-b6b5-f1ce1967f8bb": {
     "id": "4f2e1449-4308-4724-b6b5-f1ce1967f8bb",
     "prev": "f0551436-2b74-43fd-b272-c48323a83773",
     "regions": {
      "a6956997-1dbe-417c-b982-aa9974af36a2": {
       "attrs": {
        "height": 0.8,
        "width": 0.8,
        "x": 0.1,
        "y": 0.1
       },
       "content": {
        "cell": "4da46af5-389b-422f-8723-2240bcb5e5cc",
        "part": "whole"
       },
       "id": "a6956997-1dbe-417c-b982-aa9974af36a2"
      }
     }
    },
    "6a9b86a5-72d4-4ea9-8160-3d55bae4c738": {
     "id": "6a9b86a5-72d4-4ea9-8160-3d55bae4c738",
     "prev": "4f2e1449-4308-4724-b6b5-f1ce1967f8bb",
     "regions": {
      "7a3484dc-5988-456c-b189-15cb1f18af1f": {
       "attrs": {
        "height": 0.8,
        "width": 0.8,
        "x": 0.1,
        "y": 0.1
       },
       "content": {
        "cell": "951424a9-7339-4487-bff2-66c64595ea34",
        "part": "whole"
       },
       "id": "7a3484dc-5988-456c-b189-15cb1f18af1f"
      }
     }
    },
    "788ca0e1-453f-4688-b082-ffde7b78e68c": {
     "id": "788ca0e1-453f-4688-b082-ffde7b78e68c",
     "prev": "2db8174a-eab5-4a44-aa68-a816d759bda9",
     "regions": {
      "fe4f47cd-4e72-4e30-970a-19547b803205": {
       "attrs": {
        "height": 0.8,
        "width": 0.8,
        "x": 0.1,
        "y": 0.1
       },
       "content": {
        "cell": "d70290b6-b579-4460-9035-1657b31857a4",
        "part": "whole"
       },
       "id": "fe4f47cd-4e72-4e30-970a-19547b803205"
      }
     }
    },
    "7a911c00-893a-4bdd-b842-fce896a21aae": {
     "id": "7a911c00-893a-4bdd-b842-fce896a21aae",
     "prev": "2039394f-772d-4c00-b81e-83f05bc1dcd1",
     "regions": {
      "2de9a398-fea4-4723-a8b6-55c33ce96eb1": {
       "attrs": {
        "height": 0.8,
        "width": 0.8,
        "x": 0.1,
        "y": 0.1
       },
       "content": {
        "cell": "b0a25cbc-b5fe-4080-bd6f-951ddfd7381f",
        "part": "whole"
       },
       "id": "2de9a398-fea4-4723-a8b6-55c33ce96eb1"
      }
     }
    },
    "829ba554-db30-4ece-af12-5488f4729294": {
     "id": "829ba554-db30-4ece-af12-5488f4729294",
     "prev": "7a911c00-893a-4bdd-b842-fce896a21aae",
     "regions": {
      "443f7e08-6b5f-4714-aed2-b8e910728910": {
       "attrs": {
        "height": 0.8,
        "width": 0.8,
        "x": 0.1,
        "y": 0.1
       },
       "content": {
        "cell": "56362fbe-c101-494a-bd32-3e1649e15643",
        "part": "whole"
       },
       "id": "443f7e08-6b5f-4714-aed2-b8e910728910"
      }
     }
    },
    "885499a5-0dfb-4789-9555-6a95c5a3376e": {
     "id": "885499a5-0dfb-4789-9555-6a95c5a3376e",
     "prev": "f3732cc4-6051-4998-a02c-0e5541a15f23",
     "regions": {
      "8b4717b8-bdd2-465b-96ad-407eacdbe34b": {
       "attrs": {
        "height": 0.8,
        "width": 0.8,
        "x": 0.1,
        "y": 0.1
       },
       "content": {
        "cell": "6f147f30-1ba3-4e9f-9653-e13a4257df6c",
        "part": "whole"
       },
       "id": "8b4717b8-bdd2-465b-96ad-407eacdbe34b"
      }
     }
    },
    "94eabf87-a6d9-4ac8-a24e-dad8e0e4d8d8": {
     "id": "94eabf87-a6d9-4ac8-a24e-dad8e0e4d8d8",
     "prev": "4329cc6d-7f9f-4b70-a761-2cb9d911ca0f",
     "regions": {
      "82549bbb-345d-423f-8229-7b5cd0628b14": {
       "attrs": {
        "height": 0.8,
        "width": 0.8,
        "x": 0.1,
        "y": 0.1
       },
       "content": {
        "cell": "8018269b-60c2-4a26-abe2-77c73cace5f6",
        "part": "whole"
       },
       "id": "82549bbb-345d-423f-8229-7b5cd0628b14"
      }
     }
    },
    "9b2467ee-a4a5-42ab-9028-de6057970611": {
     "id": "9b2467ee-a4a5-42ab-9028-de6057970611",
     "prev": "788ca0e1-453f-4688-b082-ffde7b78e68c",
     "regions": {
      "33ad7a50-cf56-40b7-b53b-552605f88fa5": {
       "attrs": {
        "height": 0.8,
        "width": 0.8,
        "x": 0.1,
        "y": 0.1
       },
       "content": {
        "cell": "6c33627a-8a43-4349-bf5e-9097b0e286f7",
        "part": "whole"
       },
       "id": "33ad7a50-cf56-40b7-b53b-552605f88fa5"
      }
     }
    },
    "ba0bf0ed-6cee-4c8c-bc7e-222a0f8e820d": {
     "id": "ba0bf0ed-6cee-4c8c-bc7e-222a0f8e820d",
     "prev": "829ba554-db30-4ece-af12-5488f4729294",
     "regions": {
      "7eb01692-dcb5-4ded-bd25-7e0d90f3fffc": {
       "attrs": {
        "height": 0.8,
        "width": 0.8,
        "x": 0.1,
        "y": 0.1
       },
       "content": {
        "cell": "6c53c225-83fe-4d41-8dca-0d1c9368584c",
        "part": "whole"
       },
       "id": "7eb01692-dcb5-4ded-bd25-7e0d90f3fffc"
      }
     }
    },
    "df3d62d2-e2b9-4ff7-978b-08c51a4f9ee8": {
     "id": "df3d62d2-e2b9-4ff7-978b-08c51a4f9ee8",
     "prev": "ba0bf0ed-6cee-4c8c-bc7e-222a0f8e820d",
     "regions": {
      "75cf714e-431e-4287-914d-b79312bcbfce": {
       "attrs": {
        "height": 0.8,
        "width": 0.8,
        "x": 0.1,
        "y": 0.1
       },
       "content": {
        "cell": "561a5ffb-7003-4ec0-a6bc-c3fd39204a40",
        "part": "whole"
       },
       "id": "75cf714e-431e-4287-914d-b79312bcbfce"
      }
     }
    },
    "f0551436-2b74-43fd-b272-c48323a83773": {
     "id": "f0551436-2b74-43fd-b272-c48323a83773",
     "prev": "0265b550-c6b6-425a-9c52-f618822afef0",
     "regions": {
      "9d1114ff-54fc-40c5-a3f1-4d094ab427d6": {
       "attrs": {
        "height": 0.8,
        "width": 0.8,
        "x": 0.1,
        "y": 0.1
       },
       "content": {
        "cell": "f14dd754-9e43-4014-8a09-be62ba0c3aed",
        "part": "whole"
       },
       "id": "9d1114ff-54fc-40c5-a3f1-4d094ab427d6"
      }
     }
    },
    "f3732cc4-6051-4998-a02c-0e5541a15f23": {
     "id": "f3732cc4-6051-4998-a02c-0e5541a15f23",
     "prev": "6a9b86a5-72d4-4ea9-8160-3d55bae4c738",
     "regions": {
      "dce19474-7bba-475a-a368-63f262661282": {
       "attrs": {
        "height": 0.8,
        "width": 0.8,
        "x": 0.1,
        "y": 0.1
       },
       "content": {
        "cell": "2b797236-c6a7-4860-b27b-ca4d8f381607",
        "part": "whole"
       },
       "id": "dce19474-7bba-475a-a368-63f262661282"
      }
     }
    }
   },
   "themes": {
    "default": "474559d9-b375-479a-ac75-71c3289ec9ff",
    "theme": {
     "474559d9-b375-479a-ac75-71c3289ec9ff": {
      "id": "474559d9-b375-479a-ac75-71c3289ec9ff",
      "palette": {
       "19cc588f-0593-49c9-9f4b-e4d7cc113b1c": {
        "id": "19cc588f-0593-49c9-9f4b-e4d7cc113b1c",
        "rgb": [
         252,
         252,
         252
        ]
       },
       "31af15d2-7e15-44c5-ab5e-e04b16a89eff": {
        "id": "31af15d2-7e15-44c5-ab5e-e04b16a89eff",
        "rgb": [
         68,
         68,
         68
        ]
       },
       "50f92c45-a630-455b-aec3-788680ec7410": {
        "id": "50f92c45-a630-455b-aec3-788680ec7410",
        "rgb": [
         155,
         177,
         192
        ]
       },
       "c5cc3653-2ee1-402a-aba2-7caae1da4f6c": {
        "id": "c5cc3653-2ee1-402a-aba2-7caae1da4f6c",
        "rgb": [
         43,
         126,
         184
        ]
       },
       "efa7f048-9acb-414c-8b04-a26811511a21": {
        "id": "efa7f048-9acb-414c-8b04-a26811511a21",
        "rgb": [
         25.118061674008803,
         73.60176211453744,
         107.4819383259912
        ]
       }
      },
      "rules": {
       "blockquote": {
        "color": "50f92c45-a630-455b-aec3-788680ec7410"
       },
       "code": {
        "font-family": "Anonymous Pro"
       },
       "h1": {
        "color": "c5cc3653-2ee1-402a-aba2-7caae1da4f6c",
        "font-family": "Lato",
        "font-size": 8
       },
       "h2": {
        "color": "c5cc3653-2ee1-402a-aba2-7caae1da4f6c",
        "font-family": "Lato",
        "font-size": 6
       },
       "h3": {
        "color": "50f92c45-a630-455b-aec3-788680ec7410",
        "font-family": "Lato",
        "font-size": 5.5
       },
       "h4": {
        "color": "c5cc3653-2ee1-402a-aba2-7caae1da4f6c",
        "font-family": "Lato",
        "font-size": 5
       },
       "h5": {
        "font-family": "Lato"
       },
       "h6": {
        "font-family": "Lato"
       },
       "h7": {
        "font-family": "Lato"
       },
       "pre": {
        "font-family": "Anonymous Pro",
        "font-size": 4
       }
      },
      "text-base": {
       "font-family": "Merriweather",
       "font-size": 4
      }
     }
    }
   }
  }
 },
 "nbformat": 4,
 "nbformat_minor": 2
}
